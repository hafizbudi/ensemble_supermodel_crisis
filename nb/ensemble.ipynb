{
 "cells": [
  {
   "cell_type": "code",
   "execution_count": 18,
   "id": "aade6959-9ab9-4342-b03e-1fd43580010e",
   "metadata": {},
   "outputs": [
    {
     "name": "stdout",
     "output_type": "stream",
     "text": [
      "The autoreload extension is already loaded. To reload it, use:\n",
      "  %reload_ext autoreload\n"
     ]
    }
   ],
   "source": [
    "#autoreload to prevent restarting the kernel when changing the code\n",
    "\n",
    "%load_ext autoreload\n",
    "%autoreload 2"
   ]
  },
  {
   "cell_type": "code",
   "execution_count": 19,
   "id": "a5248d77-1837-42fb-89fe-943a6ff47698",
   "metadata": {},
   "outputs": [],
   "source": [
    "#import dependency\n",
    "\n",
    "import sys\n",
    "\n",
    "sys.path.append(\"../src\") # go to parent dir\n",
    "\n",
    "from crisis_ensemble_exp import train_base_models, evaluate_base_models, evaluate_ensemble_models\n",
    "\n",
    "from crisis_models import (ensemble_disaster,ensemble_disaster_mix,load_model_crisis,train_model_crisis, \n",
    "                          make_idg, evaluate_model_crisis, ensemble, make_prediction_ensemble_disaster, \n",
    "                          make_prediction_supermodel)\n",
    "\n",
    "from crisis_datasets import Dataset, load_crisis_dataset, put_supermodel_data\n",
    "\n",
    "from crisis_utility import (sorted_result_notinf, sorted_result_inf, get_class_inf, get_class, get_true_class, \n",
    "                            get_index_different_prediction, get_index_same_prediction, show_image_different_prediction, \n",
    "                            show_image_same_prediction, plot_confusion)\n",
    "\n",
    "from calib import load_data"
   ]
  },
  {
   "cell_type": "code",
   "execution_count": 20,
   "id": "39869839-d2c4-455a-999f-5a3f5b990cf9",
   "metadata": {},
   "outputs": [],
   "source": [
    "# to prevent GPU used exclusively\n",
    "gpus = tf.config.experimental.list_physical_devices('GPU')\n",
    "for gpu in gpus:\n",
    "  tf.config.experimental.set_memory_growth(gpu, True)"
   ]
  },
  {
   "cell_type": "markdown",
   "id": "9a3cd26d-c87e-40c6-9f8f-c6f9326efac9",
   "metadata": {},
   "source": [
    "**Train and evaluate base classifier**"
   ]
  },
  {
   "cell_type": "code",
   "execution_count": 24,
   "id": "b8e2d7d9-e8b1-4dad-9024-d6c531c381da",
   "metadata": {
    "collapsed": true,
    "jupyter": {
     "outputs_hidden": true
    },
    "tags": []
   },
   "outputs": [
    {
     "name": "stdout",
     "output_type": "stream",
     "text": [
      "vgg16 harvey_all\n",
      "vgg16 has already been trained in dataset harvey_all\n",
      "densenet harvey_all\n",
      "densenet has already been trained in dataset harvey_all\n",
      "mobilenetv2 harvey_all\n",
      "mobilenetv2 has already been trained in dataset harvey_all\n",
      "inceptionv3 harvey_all\n",
      "inceptionv3 has already been trained in dataset harvey_all\n",
      "resnet50 harvey_all\n",
      "resnet50 has already been trained in dataset harvey_all\n",
      "vgg16 irma_all\n",
      "vgg16 has already been trained in dataset irma_all\n",
      "densenet irma_all\n",
      "densenet has already been trained in dataset irma_all\n",
      "mobilenetv2 irma_all\n",
      "mobilenetv2 has already been trained in dataset irma_all\n",
      "inceptionv3 irma_all\n",
      "inceptionv3 has already been trained in dataset irma_all\n",
      "resnet50 irma_all\n",
      "resnet50 has already been trained in dataset irma_all\n",
      "vgg16 maria_all\n",
      "vgg16 has already been trained in dataset maria_all\n",
      "densenet maria_all\n",
      "densenet has already been trained in dataset maria_all\n",
      "mobilenetv2 maria_all\n",
      "mobilenetv2 has already been trained in dataset maria_all\n",
      "inceptionv3 maria_all\n",
      "inceptionv3 has already been trained in dataset maria_all\n",
      "resnet50 maria_all\n",
      "resnet50 has already been trained in dataset maria_all\n",
      "vgg16 mexico_all\n",
      "vgg16 has already been trained in dataset mexico_all\n",
      "densenet mexico_all\n",
      "densenet has already been trained in dataset mexico_all\n",
      "mobilenetv2 mexico_all\n",
      "mobilenetv2 has already been trained in dataset mexico_all\n",
      "inceptionv3 mexico_all\n",
      "inceptionv3 has already been trained in dataset mexico_all\n",
      "resnet50 mexico_all\n",
      "resnet50 has already been trained in dataset mexico_all\n",
      "vgg16 iraq_all\n",
      "vgg16 has already been trained in dataset iraq_all\n",
      "densenet iraq_all\n",
      "densenet has already been trained in dataset iraq_all\n",
      "mobilenetv2 iraq_all\n",
      "mobilenetv2 has already been trained in dataset iraq_all\n",
      "inceptionv3 iraq_all\n",
      "inceptionv3 has already been trained in dataset iraq_all\n",
      "resnet50 iraq_all\n",
      "resnet50 has already been trained in dataset iraq_all\n",
      "vgg16 california_all\n",
      "vgg16 has already been trained in dataset california_all\n",
      "densenet california_all\n",
      "densenet has already been trained in dataset california_all\n",
      "mobilenetv2 california_all\n",
      "mobilenetv2 has already been trained in dataset california_all\n",
      "inceptionv3 california_all\n",
      "inceptionv3 has already been trained in dataset california_all\n",
      "resnet50 california_all\n",
      "resnet50 has already been trained in dataset california_all\n",
      "vgg16 srilanka_all\n",
      "vgg16 has already been trained in dataset srilanka_all\n",
      "densenet srilanka_all\n",
      "densenet has already been trained in dataset srilanka_all\n",
      "mobilenetv2 srilanka_all\n",
      "mobilenetv2 has already been trained in dataset srilanka_all\n",
      "inceptionv3 srilanka_all\n",
      "inceptionv3 has already been trained in dataset srilanka_all\n",
      "resnet50 srilanka_all\n",
      "resnet50 has already been trained in dataset srilanka_all\n"
     ]
    }
   ],
   "source": [
    "#train base model : VGG16, Densenet201, MobileNetV2, InceptionV3, Resnet50\n",
    "train_base_models()"
   ]
  },
  {
   "cell_type": "code",
   "execution_count": null,
   "id": "5aa4ba7b-8025-4fd0-83b2-d28d6cca01c5",
   "metadata": {},
   "outputs": [],
   "source": [
    "#evaluate base model\n",
    "df_metrics = evaluate_base_models()"
   ]
  },
  {
   "cell_type": "markdown",
   "id": "7a74b696-da90-41b6-bbe4-233c75ed3d69",
   "metadata": {},
   "source": [
    "**Evaluate ensemble of disaster performance**"
   ]
  },
  {
   "cell_type": "code",
   "execution_count": 21,
   "id": "f5ea164a-689b-4e80-9f2a-0b176c631822",
   "metadata": {},
   "outputs": [],
   "source": [
    "#disaster_name = ['irma_all','harvey_all','maria_all','mexico_all','iraq_all','california_all','srilanka_all']\n",
    "\n",
    "disaster_name = 'california_all'\n",
    "\n",
    "dataset_test = load_crisis_dataset(disaster_name) # the parameter is the excluded disaster\n",
    "idg = make_idg()"
   ]
  },
  {
   "cell_type": "code",
   "execution_count": 22,
   "id": "a6b053d6-754b-4aa1-8fa7-906c5908a380",
   "metadata": {},
   "outputs": [
    {
     "name": "stdout",
     "output_type": "stream",
     "text": [
      "[<keras.engine.functional.Functional object at 0x7f3e24f748b0>, <keras.engine.functional.Functional object at 0x7f3c08fd9160>, <keras.engine.functional.Functional object at 0x7f3e2516d610>]\n",
      "Found 231 validated image filenames.\n",
      "8/8 [==============================] - 9s 177ms/step - loss: 0.7304 - accuracy: 0.5931\n"
     ]
    },
    {
     "data": {
      "text/plain": [
       "{'loss': 0.730407178401947, 'accuracy': 0.5930736064910889}"
      ]
     },
     "execution_count": 22,
     "metadata": {},
     "output_type": "execute_result"
    }
   ],
   "source": [
    "#evaluate ensemble of disaster model\n",
    "\n",
    "#disaster_ensemble = ['harvey_maria_irma','mexico_iraq','irma_harvey','harvey_maria','irma_maria','iraq_all_rerun','mexico_all','california_all','srilanka_all']\n",
    "\n",
    "# disaster_ensemble list explanation\n",
    "# harvey_maria_irma : all hurricanes\n",
    "# mexico_iraq : all earthquakes\n",
    "\n",
    "# irma_harvey : without maria hurricane\n",
    "# harvey_maria : without irma hurricane\n",
    "# irma_maria : without harvey hurricane\n",
    "\n",
    "# iraq_all_rerun : iraq earthquake only\n",
    "# mexico_all : mexico earthquake only\n",
    "\n",
    "# california_all : california wildfires\n",
    "# srilanka_all : srilanka floods\n",
    "\n",
    "disaster_ensemble = ['harvey_maria_irma','mexico_iraq','srilanka_all']\n",
    "disaster_dataset = [load_crisis_dataset(dataset) for dataset in disaster_ensemble]\n",
    "\n",
    "model = ensemble_disaster_mix('densenet',disaster_dataset,disaster_ensemble)\n",
    "model.compile(loss='sparse_categorical_crossentropy',\n",
    "                              optimizer='adam',\n",
    "                              metrics=['accuracy'])\n",
    "\n",
    "res = evaluate_model_crisis(model,dataset_test,idg)\n",
    "dict(zip(model.metrics_names,res))"
   ]
  },
  {
   "cell_type": "markdown",
   "id": "320183be-fdbb-4d0c-b765-4816309fb627",
   "metadata": {},
   "source": [
    "**Show model confusion matrix**"
   ]
  },
  {
   "cell_type": "code",
   "execution_count": 16,
   "id": "8e068cdb-8264-4d8e-9e22-cafd79aac224",
   "metadata": {},
   "outputs": [
    {
     "name": "stdout",
     "output_type": "stream",
     "text": [
      "Found 231 validated image filenames.\n"
     ]
    },
    {
     "data": {
      "image/png": "[encoded data removed]",
      "text/plain": [
       "<Figure size 432x288 with 2 Axes>"
      ]
     },
     "metadata": {
      "needs_background": "light"
     },
     "output_type": "display_data"
    }
   ],
   "source": [
    "dataset = load_crisis_dataset(disaster_name)\n",
    "\n",
    "filename = '/home/hafiz/Ensemble/ensemble_crisis/data/crisismmd_datasplit_all_individual/task_informative_california_test.tsv'\n",
    "data_test = load_data(filename,'individual')\n",
    "y_true_init = data_test['label_image_code'].values\n",
    "\n",
    "tested_dataset = idg.flow_from_dataframe(\n",
    "        dataset.test_data, directory = dataset.image_dir,\n",
    "        target_size=(224, 224),\n",
    "        x_col = dataset.image_column, y_col = dataset.label_column,\n",
    "        class_mode = \"raw\", shuffle = False)\n",
    "\n",
    "plot_confusion(model, tested_dataset, y_true_init)"
   ]
  },
  {
   "cell_type": "markdown",
   "id": "999378da-d647-4080-bc3a-51592cf8c64d",
   "metadata": {},
   "source": [
    "**Show model classification results**"
   ]
  },
  {
   "cell_type": "code",
   "execution_count": null,
   "id": "057feb25-5d2d-4dff-ba69-184b7bf08c2d",
   "metadata": {},
   "outputs": [],
   "source": []
  }
 ],
 "metadata": {
  "kernelspec": {
   "display_name": "tf",
   "language": "python",
   "name": "tf"
  },
  "language_info": {
   "codemirror_mode": {
    "name": "ipython",
    "version": 3
   },
   "file_extension": ".py",
   "mimetype": "text/x-python",
   "name": "python",
   "nbconvert_exporter": "python",
   "pygments_lexer": "ipython3",
   "version": "3.9.5"
  }
 },
 "nbformat": 4,
 "nbformat_minor": 5
}
