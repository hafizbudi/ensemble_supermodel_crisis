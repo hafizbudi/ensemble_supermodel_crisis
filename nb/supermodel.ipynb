{
 "cells": [
  {
   "cell_type": "code",
   "execution_count": 1,
   "id": "a09ec6a7-cc02-49ce-bcc1-ca466417f2fc",
   "metadata": {},
   "outputs": [],
   "source": [
    "#autoreload to prevent restarting the kernel when changing the code\n",
    "\n",
    "%load_ext autoreload\n",
    "%autoreload 2"
   ]
  },
  {
   "cell_type": "code",
   "execution_count": 2,
   "id": "f85afa3b-07bb-4e8a-aa13-c8cb9e62ba64",
   "metadata": {},
   "outputs": [],
   "source": [
    "#import dependency\n",
    "\n",
    "import sys\n",
    "\n",
    "sys.path.append(\"../src\") # go to parent dir\n",
    "from crisis_ensemble_exp import train_base_models, evaluate_base_models, evaluate_ensemble_models\n",
    "from crisis_models import (ensemble_disaster,ensemble_disaster_mix,load_model_crisis,train_model_crisis, \n",
    "                          make_idg, evaluate_model_crisis, ensemble, make_prediction_ensemble_disaster, \n",
    "                          make_prediction_supermodel)\n",
    "from crisis_datasets import Dataset, load_crisis_dataset, put_supermodel_data\n",
    "from calib import load_data\n",
    "\n",
    "from tensorflow.keras.preprocessing.image import ImageDataGenerator\n",
    "\n",
    "import matplotlib.image as mpimg\n",
    "import matplotlib.pyplot as plt\n",
    "import tensorflow as tf\n",
    "import pandas as pd\n",
    "import numpy as np\n",
    "import matplotlib\n",
    "import seaborn as sns\n",
    "from sklearn.metrics import confusion_matrix\n",
    "import shutil"
   ]
  },
  {
   "cell_type": "code",
   "execution_count": 7,
   "id": "15a5ccb0-3901-42ad-973f-4bed5c686246",
   "metadata": {},
   "outputs": [],
   "source": [
    "def plot_confusion(model,test_dataset,y_true_init):\n",
    "    \n",
    "    y_true = y_true_init\n",
    "    \n",
    "    probabilities = model.predict(test_dataset)\n",
    "    #print(probabilities[:10])\n",
    "    y_pred = probabilities > 0.5\n",
    "    y_pred = np.argmax(y_pred, axis=-1)\n",
    "    #print(y_pred[:10])\n",
    "    \n",
    "    \n",
    "    font = {\n",
    "    'family': 'Times New Roman',\n",
    "    'size': 12\n",
    "    }\n",
    "    \n",
    "    matplotlib.rc('font', **font)\n",
    "    conf_mat = confusion_matrix(y_true, y_pred)\n",
    "\n",
    "    ax = sns.heatmap(conf_mat, annot=True, cmap='Blues',fmt='g')\n",
    "\n",
    "    ax.set_title('Confusion Matrix\\n\\n');\n",
    "    ax.set_xlabel('\\nPredicted Values')\n",
    "    ax.set_ylabel('Actual Values ');\n",
    "\n",
    "    ax.xaxis.set_ticklabels(['Informative','Not-Informative'])\n",
    "    ax.yaxis.set_ticklabels(['Informative','Not-Informative'])\n",
    "\n",
    "    plt.show()"
   ]
  },
  {
   "cell_type": "code",
   "execution_count": 3,
   "id": "fa8043b5-301d-4f35-9785-1700d34eb247",
   "metadata": {},
   "outputs": [],
   "source": [
    "# to prevent GPU used exclusively\n",
    "\n",
    "gpus = tf.config.experimental.list_physical_devices('GPU')\n",
    "for gpu in gpus:\n",
    "  tf.config.experimental.set_memory_growth(gpu, True)"
   ]
  },
  {
   "cell_type": "code",
   "execution_count": 4,
   "id": "2cbaf712-a4e3-40e5-80b1-baccd8420606",
   "metadata": {},
   "outputs": [],
   "source": [
    "#disaster_name = ['irma_all','harvey_all','maria_all','mexico_all','iraq_all','california_all','srilanka_all']\n",
    "disaster_name = 'irma'\n",
    "disaster_name_all = disaster_name+'_all'\n",
    "\n",
    "dataset_test = load_crisis_dataset(disaster_name_all) # the parameter is the excluded disaster\n",
    "idg = make_idg()"
   ]
  },
  {
   "cell_type": "code",
   "execution_count": 5,
   "id": "62f4e511-a330-4243-9ed6-d126c9bc0595",
   "metadata": {},
   "outputs": [
    {
     "name": "stderr",
     "output_type": "stream",
     "text": [
      "2022-10-13 16:52:58.853314: I tensorflow/core/platform/cpu_feature_guard.cc:142] This TensorFlow binary is optimized with oneAPI Deep Neural Network Library (oneDNN) to use the following CPU instructions in performance-critical operations:  AVX2 FMA\n",
      "To enable them in other operations, rebuild TensorFlow with the appropriate compiler flags.\n",
      "2022-10-13 16:52:59.182362: I tensorflow/core/common_runtime/gpu/gpu_device.cc:1510] Created device /job:localhost/replica:0/task:0/device:GPU:0 with 2183 MB memory:  -> device: 0, name: NVIDIA GeForce RTX 3090, pci bus id: 0000:81:00.0, compute capability: 8.6\n"
     ]
    },
    {
     "name": "stdout",
     "output_type": "stream",
     "text": [
      "Found 702 validated image filenames.\n"
     ]
    },
    {
     "name": "stderr",
     "output_type": "stream",
     "text": [
      "2022-10-13 16:53:18.380765: I tensorflow/compiler/mlir/mlir_graph_optimization_pass.cc:185] None of the MLIR Optimization Passes are enabled (registered 2)\n",
      "2022-10-13 16:53:20.754888: I tensorflow/stream_executor/cuda/cuda_dnn.cc:369] Loaded cuDNN version 8401\n",
      "2022-10-13 16:53:21.538859: I tensorflow/core/platform/default/subprocess.cc:304] Start cannot spawn child process: No such file or directory\n",
      "2022-10-13 16:53:21.684558: W tensorflow/core/common_runtime/bfc_allocator.cc:338] Garbage collection: deallocate free memory regions (i.e., allocations) so that we can re-allocate a larger region to avoid OOM due to memory fragmentation. If you see this message frequently, you are running near the threshold of the available device memory and re-allocation may incur great performance overhead. You may try smaller batch sizes to observe the performance impact. Set TF_ENABLE_GPU_GARBAGE_COLLECTION=false if you'd like to disable this feature.\n",
      "2022-10-13 16:53:22.255122: W tensorflow/core/common_runtime/bfc_allocator.cc:272] Allocator (GPU_0_bfc) ran out of memory trying to allocate 3.59GiB with freed_by_count=0. The caller indicates that this is not a failure, but may mean that there could be performance gains if more memory were available.\n",
      "2022-10-13 16:53:22.255169: W tensorflow/core/common_runtime/bfc_allocator.cc:272] Allocator (GPU_0_bfc) ran out of memory trying to allocate 3.59GiB with freed_by_count=0. The caller indicates that this is not a failure, but may mean that there could be performance gains if more memory were available.\n"
     ]
    },
    {
     "name": "stdout",
     "output_type": "stream",
     "text": [
      " 1/22 [>.............................] - ETA: 1:27 - loss: 0.7673 - accuracy: 0.6250"
     ]
    },
    {
     "name": "stderr",
     "output_type": "stream",
     "text": [
      "2022-10-13 16:53:22.511311: I tensorflow/stream_executor/cuda/cuda_blas.cc:1760] TensorFloat-32 will be used for the matrix multiplication. This will only be logged once.\n"
     ]
    },
    {
     "name": "stdout",
     "output_type": "stream",
     "text": [
      "21/22 [===========================>..] - ETA: 0s - loss: 0.5201 - accuracy: 0.7589"
     ]
    },
    {
     "name": "stderr",
     "output_type": "stream",
     "text": [
      "2022-10-13 16:53:27.596094: W tensorflow/core/common_runtime/bfc_allocator.cc:272] Allocator (GPU_0_bfc) ran out of memory trying to allocate 3.58GiB with freed_by_count=0. The caller indicates that this is not a failure, but may mean that there could be performance gains if more memory were available.\n",
      "2022-10-13 16:53:27.596143: W tensorflow/core/common_runtime/bfc_allocator.cc:272] Allocator (GPU_0_bfc) ran out of memory trying to allocate 3.58GiB with freed_by_count=0. The caller indicates that this is not a failure, but may mean that there could be performance gains if more memory were available.\n"
     ]
    },
    {
     "name": "stdout",
     "output_type": "stream",
     "text": [
      "22/22 [==============================] - 9s 254ms/step - loss: 0.5225 - accuracy: 0.7564\n"
     ]
    },
    {
     "data": {
      "text/plain": [
       "{'loss': 0.5224703550338745, 'accuracy': 0.7564102411270142}"
      ]
     },
     "execution_count": 5,
     "metadata": {},
     "output_type": "execute_result"
    }
   ],
   "source": [
    "# supermodel\n",
    "\n",
    "\n",
    "#excluded_disaster = ['without_irma_all','without_harvey_all','without_maria_all','without_mexico_all','without_iraq_all','without_california_all','without_srilanka_all']\n",
    "excluded_disaster = 'without_irma_all'\n",
    "\n",
    "ds_single = load_crisis_dataset(excluded_disaster)\n",
    "model_single = load_model_crisis('densenet',ds_single)\n",
    "\n",
    "res_single = evaluate_model_crisis(model_single,dataset_test,idg)\n",
    "dict(zip(model_single.metrics_names,res_single))"
   ]
  },
  {
   "cell_type": "markdown",
   "id": "a5482bf6-ba91-457d-a22a-a052fe9fa2c1",
   "metadata": {},
   "source": [
    "**Show model confusion matrix**"
   ]
  },
  {
   "cell_type": "code",
   "execution_count": 8,
   "id": "e02645b4-3861-4def-9594-f5038552237c",
   "metadata": {},
   "outputs": [
    {
     "name": "stdout",
     "output_type": "stream",
     "text": [
      "Found 702 validated image filenames.\n"
     ]
    },
    {
     "name": "stderr",
     "output_type": "stream",
     "text": [
      "findfont: Font family ['Times New Roman'] not found. Falling back to DejaVu Sans.\n",
      "findfont: Font family ['Times New Roman'] not found. Falling back to DejaVu Sans.\n"
     ]
    },
    {
     "data": {
      "image/png": "[encoded data removed]",
      "text/plain": [
       "<Figure size 432x288 with 2 Axes>"
      ]
     },
     "metadata": {
      "needs_background": "light"
     },
     "output_type": "display_data"
    }
   ],
   "source": [
    "model_dataset = load_crisis_dataset(excluded_disaster)\n",
    "tested_model = load_model_crisis('densenet',model_dataset)\n",
    "dataset = load_crisis_dataset(disaster_name_all)\n",
    "\n",
    "filename = '/home/hafiz/Ensemble/ensemble_crisis/data/crisismmd_datasplit_all_individual/task_informative_irma_test.tsv'\n",
    "data_test = load_data(filename,'individual')\n",
    "y_true_init = data_test['label_image_code'].values\n",
    "\n",
    "tested_dataset = idg.flow_from_dataframe(\n",
    "        dataset.test_data, directory = dataset.image_dir,\n",
    "        target_size=(224, 224),\n",
    "        x_col = dataset.image_column, y_col = dataset.label_column,\n",
    "        class_mode = \"raw\", shuffle = False)\n",
    "\n",
    "plot_confusion(tested_model, tested_dataset, y_true_init)"
   ]
  },
  {
   "cell_type": "code",
   "execution_count": null,
   "id": "072a5a72-2b12-44fa-8aea-9e86071a8a9d",
   "metadata": {},
   "outputs": [],
   "source": []
  }
 ],
 "metadata": {
  "kernelspec": {
   "display_name": "tf",
   "language": "python",
   "name": "tf"
  },
  "language_info": {
   "codemirror_mode": {
    "name": "ipython",
    "version": 3
   },
   "file_extension": ".py",
   "mimetype": "text/x-python",
   "name": "python",
   "nbconvert_exporter": "python",
   "pygments_lexer": "ipython3",
   "version": "3.9.5"
  }
 },
 "nbformat": 4,
 "nbformat_minor": 5
}
